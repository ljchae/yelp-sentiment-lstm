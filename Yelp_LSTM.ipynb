{
  "nbformat": 4,
  "nbformat_minor": 0,
  "metadata": {
    "colab": {
      "name": "Yelp_LSTM.ipynb",
      "version": "0.3.2",
      "provenance": [],
      "collapsed_sections": [],
      "include_colab_link": true
    },
    "kernelspec": {
      "name": "python3",
      "display_name": "Python 3"
    },
    "accelerator": "GPU"
  },
  "cells": [
    {
      "cell_type": "markdown",
      "metadata": {
        "id": "view-in-github",
        "colab_type": "text"
      },
      "source": [
        "<a href=\"https://colab.research.google.com/github/ljchae/yelp-sentiment-lstm/blob/master/Yelp_LSTM.ipynb\" target=\"_parent\"><img src=\"https://colab.research.google.com/assets/colab-badge.svg\" alt=\"Open In Colab\"/></a>"
      ]
    },
    {
      "metadata": {
        "id": "NTT9LzhHZYkG",
        "colab_type": "code",
        "colab": {}
      },
      "cell_type": "code",
      "source": [
        "from keras.preprocessing.text import Tokenizer\n",
        "from keras.preprocessing.sequence import pad_sequences\n",
        "from keras.layers import Embedding, LSTM, Dense, Dropout, Activation, Bidirectional, Conv1D\n",
        "from keras.layers import GlobalMaxPooling1D, BatchNormalization, Flatten\n",
        "from keras.models import Sequential\n",
        "from keras.optimizers import Adam\n",
        "\n",
        "import re\n",
        "import nltk\n",
        "import numpy as np\n",
        "import pandas as pd\n",
        "import matplotlib.pyplot as plt\n",
        "from nltk.corpus import stopwords\n",
        "from sklearn.model_selection import train_test_split\n",
        "from sklearn.preprocessing import OneHotEncoder"
      ],
      "execution_count": 0,
      "outputs": []
    },
    {
      "metadata": {
        "id": "pvSVrlGiaSKO",
        "colab_type": "code",
        "outputId": "6aeb6d6e-ebeb-4fff-e1db-9f6309cff658",
        "colab": {
          "base_uri": "https://localhost:8080/",
          "height": 54
        }
      },
      "cell_type": "code",
      "source": [
        "from google.colab import drive\n",
        "drive.mount('/content/drive')"
      ],
      "execution_count": 0,
      "outputs": [
        {
          "output_type": "stream",
          "text": [
            "Drive already mounted at /content/drive; to attempt to forcibly remount, call drive.mount(\"/content/drive\", force_remount=True).\n"
          ],
          "name": "stdout"
        }
      ]
    },
    {
      "metadata": {
        "id": "m_klH9LxZYkS",
        "colab_type": "code",
        "colab": {}
      },
      "cell_type": "code",
      "source": [
        "data = pd.read_csv('./yelp_review_sample.csv', sep=',', usecols=['stars', 'text'], engine='python')"
      ],
      "execution_count": 0,
      "outputs": []
    },
    {
      "metadata": {
        "id": "aeilbB5YZYkc",
        "colab_type": "code",
        "outputId": "4da12a1c-057f-43b6-e500-ad4542941256",
        "colab": {
          "base_uri": "https://localhost:8080/",
          "height": 85
        }
      },
      "cell_type": "code",
      "source": [
        "#data consisting of two columns and 100000 samples\n",
        "print(data.shape)\n",
        "\n",
        "###things to consider: skewed data -> maintain or make equally balanced?\n",
        "\n",
        "#check for lines with any null values \n",
        "print(data.isnull().any())"
      ],
      "execution_count": 0,
      "outputs": [
        {
          "output_type": "stream",
          "text": [
            "(100000, 2)\n",
            "stars    False\n",
            "text     False\n",
            "dtype: bool\n"
          ],
          "name": "stdout"
        }
      ]
    },
    {
      "metadata": {
        "id": "JXkGQDAgZYks",
        "colab_type": "code",
        "colab": {}
      },
      "cell_type": "code",
      "source": [
        "def clean_data(string):\n",
        "    regexp = r'^b[\\'|\\\"](.*)[\\'|\\\"]$'\n",
        "    base_clean = re.findall(regexp,string)[0]\n",
        "    base_clean = base_clean.lower()\n",
        "    #get rid of line breaks\n",
        "    base_clean = re.sub(r'\\\\n', '', base_clean)\n",
        "    #get rid of punctuation except for contractions\n",
        "    base_clean = re.sub(r'won\\'t', 'will not', base_clean)\n",
        "    base_clean = re.sub(r'can\\'t', 'cannot', base_clean)\n",
        "    \n",
        "    base_clean = re.sub(r'\\'t', ' not', base_clean)\n",
        "    base_clean = re.sub(r'\\'ve', ' have', base_clean)\n",
        "    base_clean = re.sub(r'i\\'m', 'i am', base_clean)\n",
        "    base_clean = re.sub(r'\\'s', ' is', base_clean)\n",
        "    base_clean = re.sub(r'\\'re', ' are', base_clean)\n",
        "    base_clean = re.sub(r'\\'d', ' would', base_clean)\n",
        "    base_clean = re.sub(r'\\'ll', ' will', base_clean)\n",
        "    base_clean = re.sub(r'\\W+', ' ', base_clean)\n",
        "    out = base_clean.strip().split()\n",
        "    return out"
      ],
      "execution_count": 0,
      "outputs": []
    },
    {
      "metadata": {
        "scrolled": false,
        "id": "ZYxgVo0HZYk4",
        "colab_type": "code",
        "colab": {}
      },
      "cell_type": "code",
      "source": [
        "#preprocess data\n",
        "#remove punctuation, non alpha-numerics, lower-case\n",
        "#split each review into array of words\n",
        "\n",
        "data['text'] = data['text'].apply(lambda x: clean_data(x))\n",
        "\n",
        "length = data.text.apply(lambda x: len(x))"
      ],
      "execution_count": 0,
      "outputs": []
    },
    {
      "metadata": {
        "id": "pZbPkClMZYlF",
        "colab_type": "code",
        "outputId": "20b05a29-80e8-48d4-cf56-74cb7126bbb1",
        "colab": {
          "base_uri": "https://localhost:8080/",
          "height": 735
        }
      },
      "cell_type": "code",
      "source": [
        "#check length of reviews\n",
        "plt.hist(length)\n",
        "plt.title(\"Distribution of Text Length\")\n",
        "plt.xlabel(\"Review Length\")\n",
        "plt.ylabel(\"Number of Reviews\")\n",
        "plt.show()\n",
        "\n",
        "#check distribution of stars\n",
        "plt.hist(data['stars'])\n",
        "plt.xticks(range(1,6))\n",
        "plt.title(\"Distribution of Stars\")\n",
        "plt.xlabel(\"Star Rating\")\n",
        "plt.ylabel(\"Number of Reviews\")\n",
        "plt.show()"
      ],
      "execution_count": 0,
      "outputs": [
        {
          "output_type": "display_data",
          "data": {
            "image/png": "[encoded data removed]",
            "text/plain": [
              "<matplotlib.figure.Figure at 0x7f209ca34400>"
            ]
          },
          "metadata": {
            "tags": []
          }
        },
        {
          "output_type": "display_data",
          "data": {
            "image/png": "[encoded data removed]",
            "text/plain": [
              "<matplotlib.figure.Figure at 0x7f2088b399e8>"
            ]
          },
          "metadata": {
            "tags": []
          }
        }
      ]
    },
    {
      "metadata": {
        "id": "UvVBGPGhZYlS",
        "colab_type": "code",
        "colab": {}
      },
      "cell_type": "code",
      "source": [
        "X = data['text']\n",
        "y_1 = data['stars'].values\n",
        "\n",
        "#encode data w/ keras Tokenizer\n",
        "t = Tokenizer()\n",
        "t.fit_on_texts(X)\n",
        "\n",
        "maxlength = 200\n",
        "X = encoded_docs = t.texts_to_sequences(X)\n",
        "X = pad_sequences(X, maxlen=maxlength, padding='post')"
      ],
      "execution_count": 0,
      "outputs": []
    },
    {
      "metadata": {
        "id": "nrdQj3KyBjT2",
        "colab_type": "code",
        "outputId": "2e1f363a-d27c-406f-a38a-4cf248e9241e",
        "colab": {
          "base_uri": "https://localhost:8080/",
          "height": 136
        }
      },
      "cell_type": "code",
      "source": [
        "def one_hot(star):\n",
        "    dummy = np.zeros((5,1))\n",
        "    dummy[star-1,:] = 1\n",
        "    return dummy\n",
        "  \n",
        "y = np.asarray(y_1)\n",
        "y = y.reshape(-1, 1)\n",
        "\n",
        "y = np.apply_along_axis(one_hot, 1, y)\n",
        "y = y.reshape(100000, 5)\n",
        "\n",
        "print(y)"
      ],
      "execution_count": 0,
      "outputs": [
        {
          "output_type": "stream",
          "text": [
            "[[0. 0. 0. 0. 1.]\n",
            " [0. 1. 0. 0. 0.]\n",
            " [0. 0. 0. 0. 1.]\n",
            " ...\n",
            " [0. 0. 1. 0. 0.]\n",
            " [0. 0. 0. 0. 1.]\n",
            " [1. 0. 0. 0. 0.]]\n"
          ],
          "name": "stdout"
        }
      ]
    },
    {
      "metadata": {
        "id": "yHsqjOkgZYlc",
        "colab_type": "code",
        "colab": {}
      },
      "cell_type": "code",
      "source": [
        "#split data into train, val, test set\n",
        "X_train, X_test, y_train, y_test = train_test_split(\n",
        "                                    X, y, test_size=0.2)\n",
        "X_train, X_val, y_train, y_val = train_test_split(\n",
        "                                    X_train, y_train,\n",
        "                                    test_size=0.2)"
      ],
      "execution_count": 0,
      "outputs": []
    },
    {
      "metadata": {
        "id": "cwb66pQvZYlp",
        "colab_type": "code",
        "outputId": "dde60bd0-f9f1-4bef-a3cc-246e052fb53f",
        "colab": {
          "base_uri": "https://localhost:8080/",
          "height": 34
        }
      },
      "cell_type": "code",
      "source": [
        "embed_ind = dict()\n",
        "\n",
        "with open('./glove.twitter.27B.100d.txt', 'r') as f:\n",
        "    for line in f:\n",
        "        vals = line.split()\n",
        "        word = vals[0]\n",
        "        coefs = np.asarray(vals[1:], dtype='float32')\n",
        "        embed_ind[word] = coefs\n",
        "\n",
        "print('Loaded %s word vectors.' % len(embed_ind))   "
      ],
      "execution_count": 0,
      "outputs": [
        {
          "output_type": "stream",
          "text": [
            "Loaded 423275 word vectors.\n"
          ],
          "name": "stdout"
        }
      ]
    },
    {
      "metadata": {
        "id": "WrZnXxRqZYl8",
        "colab_type": "code",
        "colab": {}
      },
      "cell_type": "code",
      "source": [
        "vocab_size = len(t.word_index) + 1\n",
        "\n",
        "embed_mat = np.zeros((vocab_size, 100))\n",
        "for word, i in t.word_index.items():\n",
        "    embed_vec = embed_ind.get(word)\n",
        "    if embed_vec is not None:\n",
        "        embed_mat[i] = embed_vec"
      ],
      "execution_count": 0,
      "outputs": []
    },
    {
      "metadata": {
        "id": "UIrlhij8A64h",
        "colab_type": "code",
        "outputId": "e4c6c674-4b29-44fc-f8e9-b2042da0b1b8",
        "colab": {
          "base_uri": "https://localhost:8080/",
          "height": 51
        }
      },
      "cell_type": "code",
      "source": [
        ""
      ],
      "execution_count": 0,
      "outputs": [
        {
          "output_type": "stream",
          "text": [
            "[list([0, 0, 0, 0, 1]) list([0, 1, 0, 0, 0]) list([0, 0, 0, 0, 1]) ...\n",
            " list([0, 0, 1, 0, 0]) list([0, 0, 0, 0, 1]) list([1, 0, 0, 0, 0])]\n"
          ],
          "name": "stdout"
        }
      ]
    },
    {
      "metadata": {
        "id": "i8oP4gGAZYmF",
        "colab_type": "code",
        "colab": {}
      },
      "cell_type": "code",
      "source": [
        "def build_model(lr=0.0):\n",
        "    model = Sequential()\n",
        "    \n",
        "    model.add(Embedding(vocab_size, 100, weights=[embed_mat], input_length=maxlength, trainable=False))\n",
        "    \n",
        "    model.add(LSTM(128, return_sequences=True))\n",
        "    \n",
        "    model.add(GlobalMaxPooling1D())\n",
        "    \n",
        "    model.add(Dense(5, activation='sigmoid'))\n",
        "    \n",
        "    model.compile(loss='binary_crossentropy', optimizer=Adam(lr=lr), metrics=['accuracy'])\n",
        "    \n",
        "    return model"
      ],
      "execution_count": 0,
      "outputs": []
    },
    {
      "metadata": {
        "id": "JTY7b6-rZYmU",
        "colab_type": "code",
        "outputId": "e739d04e-f206-47bb-e6fb-b4fe7b86da1b",
        "colab": {
          "base_uri": "https://localhost:8080/",
          "height": 700
        }
      },
      "cell_type": "code",
      "source": [
        "model = build_model(1e-4)\n",
        "print(model.summary())\n",
        "hist = model.fit(X_train, y_train, batch_size=1024, epochs=10, validation_data=(X_val, y_val))\n",
        "loss, accuracy = model.evaluate(X_val, y_val)\n",
        "print('Accuracy: %f' % (accuracy*100))"
      ],
      "execution_count": 0,
      "outputs": [
        {
          "output_type": "stream",
          "text": [
            "_________________________________________________________________\n",
            "Layer (type)                 Output Shape              Param #   \n",
            "=================================================================\n",
            "embedding_61 (Embedding)     (None, 200, 100)          8761800   \n",
            "_________________________________________________________________\n",
            "lstm_60 (LSTM)               (None, 200, 128)          117248    \n",
            "_________________________________________________________________\n",
            "global_max_pooling1d_19 (Glo (None, 128)               0         \n",
            "_________________________________________________________________\n",
            "dense_41 (Dense)             (None, 5)                 645       \n",
            "=================================================================\n",
            "Total params: 8,879,693\n",
            "Trainable params: 117,893\n",
            "Non-trainable params: 8,761,800\n",
            "_________________________________________________________________\n",
            "None\n",
            "Train on 64000 samples, validate on 16000 samples\n",
            "Epoch 1/10\n",
            "64000/64000 [==============================] - 47s 739us/step - loss: 0.5555 - acc: 0.7577 - val_loss: 0.4659 - val_acc: 0.7998\n",
            "Epoch 2/10\n",
            "64000/64000 [==============================] - 40s 627us/step - loss: 0.4508 - acc: 0.8008 - val_loss: 0.4475 - val_acc: 0.8049\n",
            "Epoch 3/10\n",
            "64000/64000 [==============================] - 40s 629us/step - loss: 0.4391 - acc: 0.8093 - val_loss: 0.4329 - val_acc: 0.8171\n",
            "Epoch 4/10\n",
            "64000/64000 [==============================] - 40s 630us/step - loss: 0.4168 - acc: 0.8264 - val_loss: 0.4059 - val_acc: 0.8304\n",
            "Epoch 5/10\n",
            "64000/64000 [==============================] - 40s 630us/step - loss: 0.3928 - acc: 0.8339 - val_loss: 0.3862 - val_acc: 0.8367\n",
            "Epoch 6/10\n",
            "64000/64000 [==============================] - 40s 631us/step - loss: 0.3743 - acc: 0.8425 - val_loss: 0.3691 - val_acc: 0.8450\n",
            "Epoch 7/10\n",
            "64000/64000 [==============================] - 40s 630us/step - loss: 0.3604 - acc: 0.8486 - val_loss: 0.3584 - val_acc: 0.8485\n",
            "Epoch 8/10\n",
            "64000/64000 [==============================] - 40s 631us/step - loss: 0.3504 - acc: 0.8519 - val_loss: 0.3479 - val_acc: 0.8516\n",
            "Epoch 9/10\n",
            "64000/64000 [==============================] - 40s 627us/step - loss: 0.3416 - acc: 0.8545 - val_loss: 0.3414 - val_acc: 0.8533\n",
            "Epoch 10/10\n",
            "64000/64000 [==============================] - 40s 622us/step - loss: 0.3360 - acc: 0.8561 - val_loss: 0.3367 - val_acc: 0.8548\n",
            "16000/16000 [==============================] - 102s 6ms/step\n",
            "Accuracy: 85.476251\n"
          ],
          "name": "stdout"
        }
      ]
    },
    {
      "metadata": {
        "id": "p9evSky0ZYmp",
        "colab_type": "code",
        "outputId": "84467c6b-5349-418e-b211-9cb3dbc29cd5",
        "colab": {
          "base_uri": "https://localhost:8080/",
          "height": 735
        }
      },
      "cell_type": "code",
      "source": [
        "plt.plot(hist.history['acc'], 'y')\n",
        "plt.plot(hist.history['val_acc'], 'r')\n",
        "plt.title('Model Accuracy')\n",
        "plt.ylabel('Accuracy')\n",
        "plt.xlabel('Epoch')\n",
        "plt.legend(['train', 'test'], loc='upper left')\n",
        "plt.show()\n",
        "\n",
        "plt.plot(hist.history['loss'], 'y')\n",
        "plt.plot(hist.history['val_loss'], 'r')\n",
        "plt.title('Model Loss')\n",
        "plt.ylabel('Loss')\n",
        "plt.xlabel('Epoch')\n",
        "plt.legend(['train', 'test'], loc='upper left')\n",
        "plt.show()"
      ],
      "execution_count": 0,
      "outputs": [
        {
          "output_type": "display_data",
          "data": {
            "image/png": "[encoded data removed]",
            "text/plain": [
              "<matplotlib.figure.Figure at 0x7f2042f39128>"
            ]
          },
          "metadata": {
            "tags": []
          }
        },
        {
          "output_type": "display_data",
          "data": {
            "image/png": "[encoded data removed]",
            "text/plain": [
              "<matplotlib.figure.Figure at 0x7f20421a9d30>"
            ]
          },
          "metadata": {
            "tags": []
          }
        }
      ]
    }
  ]
}